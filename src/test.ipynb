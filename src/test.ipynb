{
 "cells": [
  {
   "cell_type": "code",
   "execution_count": 3,
   "metadata": {},
   "outputs": [],
   "source": [
    "from PIL import Image\n",
    "import numpy as np"
   ]
  },
  {
   "cell_type": "code",
   "execution_count": 42,
   "metadata": {},
   "outputs": [],
   "source": [
    "%load_ext autoreload\n",
    "%autoreload 2"
   ]
  },
  {
   "cell_type": "code",
   "execution_count": 15,
   "metadata": {},
   "outputs": [],
   "source": [
    "x = np.array(Image.open('../image/jerem.jfif').convert('L'))\n",
    "h = 1/16 * np.array([[1,2,1],\n",
    "                     [2,4,2],\n",
    "                     [1,2,1]])"
   ]
  },
  {
   "cell_type": "code",
   "execution_count": 43,
   "metadata": {},
   "outputs": [],
   "source": [
    "from algorithme.admmp2 import ADMMP2"
   ]
  },
  {
   "cell_type": "code",
   "execution_count": 46,
   "metadata": {},
   "outputs": [],
   "source": [
    "y = algo.gaussian_filter_2d()"
   ]
  },
  {
   "cell_type": "code",
   "execution_count": 56,
   "metadata": {},
   "outputs": [],
   "source": [
    "from scipy import sparse, fft"
   ]
  },
  {
   "cell_type": "code",
   "execution_count": 67,
   "metadata": {},
   "outputs": [],
   "source": [
    "R = np.eye(x.shape[0], x.shape[1])"
   ]
  },
  {
   "cell_type": "code",
   "execution_count": 139,
   "metadata": {},
   "outputs": [],
   "source": [
    "algo = ADMMP2(x, h, R, 0.5, 0.2, 0.4)"
   ]
  },
  {
   "cell_type": "code",
   "execution_count": 152,
   "metadata": {},
   "outputs": [
    {
     "name": "stderr",
     "output_type": "stream",
     "text": [
      "/home/heez/Documents/GitHub/Image_Restoration_SDI/src/algorithme/admmp2.py:174: RuntimeWarning: invalid value encountered in scalar divide\n",
      "  tabTime.append(time()-timeRef)\n"
     ]
    },
    {
     "data": {
      "text/plain": [
       "(array([[-1.52199782e+211,  1.52199782e+211, -1.52199782e+211, ...,\n",
       "          1.52199782e+211, -1.52199782e+211,  1.52199782e+211],\n",
       "        [ 1.52199782e+211, -1.52199782e+211,  1.52199782e+211, ...,\n",
       "         -1.52199782e+211,  1.52199782e+211, -1.52199782e+211],\n",
       "        [-1.52199782e+211,  1.52199782e+211, -1.52199782e+211, ...,\n",
       "          1.52199782e+211, -1.52199782e+211,  1.52199782e+211],\n",
       "        ...,\n",
       "        [ 1.52199782e+211, -1.52199782e+211,  1.52199782e+211, ...,\n",
       "         -1.52199782e+211,  1.52199782e+211, -1.52199782e+211],\n",
       "        [-1.52199782e+211,  1.52199782e+211, -1.52199782e+211, ...,\n",
       "          1.52199782e+211, -1.52199782e+211,  1.52199782e+211],\n",
       "        [ 1.52199782e+211, -1.52199782e+211,  1.52199782e+211, ...,\n",
       "         -1.52199782e+211,  1.52199782e+211, -1.52199782e+211]]),\n",
       " 5,\n",
       " [1.1622289103090892e+29,\n",
       "  3.0575725215412155e+36,\n",
       "  3.057572521541342e+36,\n",
       "  3.0575725215412067e+36,\n",
       "  inf],\n",
       " [0.26114559173583984,\n",
       "  0.5508737564086914,\n",
       "  0.8397338390350342,\n",
       "  1.0429775714874268,\n",
       "  1.250004529953003])"
      ]
     },
     "execution_count": 152,
     "metadata": {},
     "output_type": "execute_result"
    }
   ],
   "source": [
    "algo.fit_transform(y/ 255.)"
   ]
  },
  {
   "cell_type": "code",
   "execution_count": 96,
   "metadata": {},
   "outputs": [],
   "source": [
    "f, v = algo._precompute_matrix(x, y, 0.3)"
   ]
  },
  {
   "cell_type": "code",
   "execution_count": 185,
   "metadata": {},
   "outputs": [
    {
     "name": "stderr",
     "output_type": "stream",
     "text": [
      "/home/heez/Documents/GitHub/Image_Restoration_SDI/src/algorithme/admmp2.py:174: RuntimeWarning: invalid value encountered in scalar divide\n",
      "  err = np.linalg.norm(x_ - x) / np.linalg.norm(x)\n"
     ]
    }
   ],
   "source": [
    "X_, _,_,_ = algo.fit_transform(y)"
   ]
  },
  {
   "cell_type": "code",
   "execution_count": 186,
   "metadata": {},
   "outputs": [
    {
     "data": {
      "text/plain": [
       "array([[-3.88109443e+213,  3.88109443e+213, -3.88109443e+213, ...,\n",
       "         3.88109443e+213, -3.88109443e+213,  3.88109443e+213],\n",
       "       [ 3.88109443e+213, -3.88109443e+213,  3.88109443e+213, ...,\n",
       "        -3.88109443e+213,  3.88109443e+213, -3.88109443e+213],\n",
       "       [-3.88109443e+213,  3.88109443e+213, -3.88109443e+213, ...,\n",
       "         3.88109443e+213, -3.88109443e+213,  3.88109443e+213],\n",
       "       ...,\n",
       "       [ 3.88109443e+213, -3.88109443e+213,  3.88109443e+213, ...,\n",
       "        -3.88109443e+213,  3.88109443e+213, -3.88109443e+213],\n",
       "       [-3.88109443e+213,  3.88109443e+213, -3.88109443e+213, ...,\n",
       "         3.88109443e+213, -3.88109443e+213,  3.88109443e+213],\n",
       "       [ 3.88109443e+213, -3.88109443e+213,  3.88109443e+213, ...,\n",
       "        -3.88109443e+213,  3.88109443e+213, -3.88109443e+213]])"
      ]
     },
     "execution_count": 186,
     "metadata": {},
     "output_type": "execute_result"
    }
   ],
   "source": [
    "X_"
   ]
  },
  {
   "cell_type": "code",
   "execution_count": 188,
   "metadata": {},
   "outputs": [],
   "source": [
    "xref = x"
   ]
  },
  {
   "cell_type": "code",
   "execution_count": 193,
   "metadata": {},
   "outputs": [],
   "source": [
    "\n",
    "pre_comput_Ty, inv_Tmu = algo._precompute_matrix(xref, y, algo.mu)\n",
    "eta0, eta1 = np.zeros(xref.shape),  np.zeros(xref.shape)\n",
    "x = pre_comput_Ty\n",
    "u0 = inv_Tmu @ (pre_comput_Ty + algo.mu * (algo.A_dot(x) + eta0))\n",
    "u1 = algo._shrink(x + eta1, algo.lambd/(algo.mu*algo.nu))\n",
    "x_ = algo.H_inv_dot(algo.A_dot_adj((u0 - eta0)) + algo.nu * (u1 - eta1))"
   ]
  },
  {
   "cell_type": "code",
   "execution_count": 201,
   "metadata": {},
   "outputs": [
    {
     "data": {
      "text/plain": [
       "array([[ 1.64377617e+18-8.24883505e+17j,  2.40816448e+18-1.16524003e+18j,\n",
       "         2.58112416e+18-1.21045690e+18j, ...,\n",
       "         9.25940658e+17-7.90058665e+17j,  3.83556811e+17-3.31194894e+17j,\n",
       "         5.65518510e+17-3.14604228e+17j],\n",
       "       [-2.39054221e+16-5.03578967e+17j, -5.52635307e+15-7.62987332e+17j,\n",
       "         2.46112209e+16-8.31726878e+17j, ...,\n",
       "        -1.40873972e+17-1.54532992e+17j, -6.02054206e+16-6.47431080e+16j,\n",
       "        -2.20392121e+16-1.61394298e+17j],\n",
       "       [ 7.30173682e+17+1.59746090e+17j,  9.75227823e+17+2.47401037e+17j,\n",
       "         9.82782658e+17+2.64195985e+17j, ...,\n",
       "         9.05709999e+17-5.87675670e+16j,  3.81902948e+17-2.51621308e+16j,\n",
       "         2.99569867e+17+4.21230672e+16j],\n",
       "       ...,\n",
       "       [-6.99766022e+16-2.57586108e+16j, -9.87354269e+16-5.61986710e+16j,\n",
       "        -1.05381062e+17-7.01532988e+16j, ...,\n",
       "        -1.01812910e+17+8.40698825e+16j, -4.28184799e+16+3.42636105e+16j,\n",
       "        -2.94774455e+16-2.14893123e+14j],\n",
       "       [-4.79293488e+17+4.00873777e+17j, -6.82699016e+17+5.52133773e+17j,\n",
       "        -7.25031306e+17+5.69444828e+17j, ...,\n",
       "        -3.48824018e+17+4.35247868e+17j, -1.45817812e+17+1.80197309e+17j,\n",
       "        -1.72759703e+17+1.56976277e+17j],\n",
       "       [-6.64879830e+17-2.82655381e+16j, -9.62003099e+17-3.95072770e+16j,\n",
       "        -1.02855289e+18-4.61742797e+16j, ...,\n",
       "        -4.68396571e+17+1.76450876e+16j, -1.93636509e+17+6.63197278e+15j,\n",
       "        -2.36842609e+17-7.58336321e+15j]])"
      ]
     },
     "execution_count": 201,
     "metadata": {},
     "output_type": "execute_result"
    }
   ],
   "source": [
    "algo.inv_H @ algo.A_dot_adj((u0 - eta0)) + algo.nu * (u1 - eta1)"
   ]
  },
  {
   "cell_type": "code",
   "execution_count": 192,
   "metadata": {},
   "outputs": [
    {
     "data": {
      "text/plain": [
       "array([[60058.25  , 60012.3125, 59919.9375, ..., 59454.5   , 59576.1875,\n",
       "        59827.0625],\n",
       "       [59827.0625, 60058.25  , 60012.3125, ..., 59332.9375, 59454.5   ,\n",
       "        59576.1875],\n",
       "       [59576.1875, 59827.0625, 60058.25  , ..., 59179.0625, 59332.9375,\n",
       "        59454.5   ],\n",
       "       ...,\n",
       "       [59959.625 , 60028.3125, 60095.125 , ..., 60058.25  , 60012.3125,\n",
       "        59919.9375],\n",
       "       [59919.9375, 59959.625 , 60028.3125, ..., 59827.0625, 60058.25  ,\n",
       "        60012.3125],\n",
       "       [60012.3125, 59919.9375, 59959.625 , ..., 59576.1875, 59827.0625,\n",
       "        60058.25  ]])"
      ]
     },
     "execution_count": 192,
     "metadata": {},
     "output_type": "execute_result"
    }
   ],
   "source": [
    "u1"
   ]
  },
  {
   "cell_type": "code",
   "execution_count": null,
   "metadata": {},
   "outputs": [],
   "source": []
  }
 ],
 "metadata": {
  "kernelspec": {
   "display_name": "centrale",
   "language": "python",
   "name": "python3"
  },
  "language_info": {
   "codemirror_mode": {
    "name": "ipython",
    "version": 3
   },
   "file_extension": ".py",
   "mimetype": "text/x-python",
   "name": "python",
   "nbconvert_exporter": "python",
   "pygments_lexer": "ipython3",
   "version": "3.8.16"
  },
  "orig_nbformat": 4,
  "vscode": {
   "interpreter": {
    "hash": "64fc916e18f1edd41fbd23c54dce4ab1f12999a76ff034f974e0766d85066b59"
   }
  }
 },
 "nbformat": 4,
 "nbformat_minor": 2
}
