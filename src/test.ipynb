{
 "cells": [
  {
   "cell_type": "code",
   "execution_count": 3,
   "metadata": {},
   "outputs": [],
   "source": [
    "from PIL import Image\n",
    "import numpy as np"
   ]
  },
  {
   "cell_type": "code",
   "execution_count": 42,
   "metadata": {},
   "outputs": [],
   "source": [
    "%load_ext autoreload\n",
    "%autoreload 2"
   ]
  },
  {
   "cell_type": "code",
   "execution_count": 15,
   "metadata": {},
   "outputs": [],
   "source": [
    "x = np.array(Image.open('../image/jerem.jfif').convert('L'))\n",
    "h = 1/16 * np.array([[1,2,1],\n",
    "                     [2,4,2],\n",
    "                     [1,2,1]])"
   ]
  },
  {
   "cell_type": "code",
   "execution_count": 43,
   "metadata": {},
   "outputs": [],
   "source": [
    "from algorithme.admmp2 import ADMMP2"
   ]
  },
  {
   "cell_type": "code",
   "execution_count": 46,
   "metadata": {},
   "outputs": [],
   "source": [
    "y = algo.gaussian_filter_2d()"
   ]
  },
  {
   "cell_type": "code",
   "execution_count": 56,
   "metadata": {},
   "outputs": [],
   "source": [
    "from scipy import sparse, fft"
   ]
  },
  {
   "cell_type": "code",
   "execution_count": 67,
   "metadata": {},
   "outputs": [],
   "source": [
    "R = np.eye(x.shape[0], x.shape[1])"
   ]
  },
  {
   "cell_type": "code",
   "execution_count": 78,
   "metadata": {},
   "outputs": [],
   "source": [
    "algo = ADMMP2(x, h, R, 0.5, 0.2, 0.4)"
   ]
  },
  {
   "cell_type": "code",
   "execution_count": 70,
   "metadata": {},
   "outputs": [
    {
     "ename": "ValueError",
     "evalue": "matmul: Input operand 1 has a mismatch in its core dimension 0, with gufunc signature (n?,k),(k,m?)->(n?,m?) (size 498 is different from 500)",
     "output_type": "error",
     "traceback": [
      "\u001b[0;31m---------------------------------------------------------------------------\u001b[0m",
      "\u001b[0;31mValueError\u001b[0m                                Traceback (most recent call last)",
      "Cell \u001b[0;32mIn[70], line 1\u001b[0m\n\u001b[0;32m----> 1\u001b[0m algo\u001b[39m.\u001b[39;49mfit_transform(y)\n",
      "File \u001b[0;32m~/Documents/GitHub/Image_Restoration_SDI/src/algorithme/admmp2.py:149\u001b[0m, in \u001b[0;36mADMMP2.fit_transform\u001b[0;34m(self, y, eps)\u001b[0m\n\u001b[1;32m    147\u001b[0m \u001b[39mdef\u001b[39;00m \u001b[39mfit_transform\u001b[39m(\u001b[39mself\u001b[39m, y:np\u001b[39m.\u001b[39mndarray, eps:\u001b[39mfloat\u001b[39m\u001b[39m=\u001b[39m\u001b[39m10e-2\u001b[39m):\n\u001b[1;32m    148\u001b[0m     x \u001b[39m=\u001b[39m \u001b[39mself\u001b[39m\u001b[39m.\u001b[39mx\n\u001b[0;32m--> 149\u001b[0m     pre_comput_Ty, inv_Tmu \u001b[39m=\u001b[39m \u001b[39mself\u001b[39;49m\u001b[39m.\u001b[39;49m_precompute_matrix(x, y, \u001b[39mself\u001b[39;49m\u001b[39m.\u001b[39;49mmu)\n\u001b[1;32m    151\u001b[0m     eta0, eta1 \u001b[39m=\u001b[39m np\u001b[39m.\u001b[39mzeros(\u001b[39mself\u001b[39m\u001b[39m.\u001b[39my\u001b[39m.\u001b[39mshape[\u001b[39m0\u001b[39m]),  np\u001b[39m.\u001b[39mzeros(\u001b[39mself\u001b[39m\u001b[39m.\u001b[39mR_fft\u001b[39m.\u001b[39mshape[\u001b[39m0\u001b[39m])\n\u001b[1;32m    152\u001b[0m     u0 \u001b[39m=\u001b[39m inv_Tmu \u001b[39m*\u001b[39m (pre_comput_Ty \u001b[39m+\u001b[39m \u001b[39mself\u001b[39m\u001b[39m.\u001b[39mmu \u001b[39m*\u001b[39m (\u001b[39mself\u001b[39m\u001b[39m.\u001b[39mA_dot(x) \u001b[39m+\u001b[39m eta0))\n",
      "File \u001b[0;32m~/Documents/GitHub/Image_Restoration_SDI/src/algorithme/admmp2.py:58\u001b[0m, in \u001b[0;36mADMMP2._precompute_matrix\u001b[0;34m(self, x, y, mu)\u001b[0m\n\u001b[1;32m     53\u001b[0m \u001b[39mfor\u001b[39;00m j \u001b[39min\u001b[39;00m \u001b[39mrange\u001b[39m(x\u001b[39m.\u001b[39mshape[\u001b[39m1\u001b[39m] \u001b[39m-\u001b[39m b, x\u001b[39m.\u001b[39mshape[\u001b[39m1\u001b[39m]):\n\u001b[1;32m     54\u001b[0m     index_list \u001b[39m=\u001b[39m index_list \u001b[39m+\u001b[39m [x\u001b[39m.\u001b[39mshape[\u001b[39m0\u001b[39m]\u001b[39m*\u001b[39mi \u001b[39m+\u001b[39m j \u001b[39mfor\u001b[39;00m i \u001b[39min\u001b[39;00m \u001b[39mrange\u001b[39m(a, x\u001b[39m.\u001b[39mshape[\u001b[39m0\u001b[39m] \u001b[39m-\u001b[39m a)]\n\u001b[0;32m---> 58\u001b[0m \u001b[39mreturn\u001b[39;00m np\u001b[39m.\u001b[39;49mpad(y, pad_width\u001b[39m=\u001b[39;49m((x\u001b[39m.\u001b[39;49mshape[\u001b[39m0\u001b[39;49m] \u001b[39m-\u001b[39;49m y\u001b[39m.\u001b[39;49mshape[\u001b[39m0\u001b[39;49m])\u001b[39m/\u001b[39;49m\u001b[39m/\u001b[39;49m\u001b[39m2\u001b[39;49m, (x\u001b[39m.\u001b[39;49mshape[\u001b[39m1\u001b[39;49m] \u001b[39m-\u001b[39;49m y\u001b[39m.\u001b[39;49mshape[\u001b[39m1\u001b[39;49m])\u001b[39m/\u001b[39;49m\u001b[39m/\u001b[39;49m\u001b[39m2\u001b[39;49m), mode\u001b[39m=\u001b[39;49m\u001b[39m'\u001b[39;49m\u001b[39mconstant\u001b[39;49m\u001b[39m'\u001b[39;49m, constant_values\u001b[39m=\u001b[39;49m\u001b[39m0\u001b[39;49m)\u001b[39m@\u001b[39;49m y, np\u001b[39m.\u001b[39mlinalg\u001b[39m.\u001b[39minv(np\u001b[39m.\u001b[39mdiag([\u001b[39m0\u001b[39m \u001b[39mif\u001b[39;00m i \u001b[39min\u001b[39;00m index_list \u001b[39melse\u001b[39;00m \u001b[39m1\u001b[39m \u001b[39mfor\u001b[39;00m i \u001b[39min\u001b[39;00m \u001b[39mrange\u001b[39m(x\u001b[39m.\u001b[39mshape[\u001b[39m0\u001b[39m]\u001b[39m*\u001b[39mx\u001b[39m.\u001b[39mshape[\u001b[39m1\u001b[39m])]) \u001b[39m+\u001b[39m mu \u001b[39m*\u001b[39m np\u001b[39m.\u001b[39midentity(x\u001b[39m.\u001b[39mshape[\u001b[39m0\u001b[39m]\u001b[39m*\u001b[39mx\u001b[39m.\u001b[39mshape[\u001b[39m1\u001b[39m]))\n",
      "\u001b[0;31mValueError\u001b[0m: matmul: Input operand 1 has a mismatch in its core dimension 0, with gufunc signature (n?,k),(k,m?)->(n?,m?) (size 498 is different from 500)"
     ]
    }
   ],
   "source": [
    "algo.fit_transform(y)"
   ]
  },
  {
   "cell_type": "code",
   "execution_count": 88,
   "metadata": {},
   "outputs": [],
   "source": [
    "f, v = algo._precompute_matrix(x, y, 0.3)"
   ]
  },
  {
   "cell_type": "code",
   "execution_count": 86,
   "metadata": {},
   "outputs": [],
   "source": [
    "a = (x.shape[0] - y.shape[0]) // 2\n",
    "b = (x.shape[1] - y.shape[1]) // 2 \n",
    "index_list = []\n",
    "for i in range(a):\n",
    "    index_list = index_list + [i*x.shape[0] + j for j in range(x.shape[0])]\n",
    "for i in range(x.shape[0] -a, x.shape[0]):\n",
    "    index_list = index_list + [i*x.shape[0] + j for j in range(x.shape[0])]\n",
    "for j in range(b):\n",
    "    index_list = index_list + [x.shape[0]*i + j for i in range(a, x.shape[0] - a)]\n",
    "for j in range(x.shape[1] - b, x.shape[1]):\n",
    "    index_list = index_list + [x.shape[0]*i + j for i in range(a, x.shape[0] - a)]\n",
    "\n",
    "    "
   ]
  },
  {
   "cell_type": "code",
   "execution_count": 73,
   "metadata": {},
   "outputs": [],
   "source": [
    "f=np.pad(y, pad_width=((x.shape[0] - y.shape[0])//2, (x.shape[1] - y.shape[1])//2), mode='constant', constant_values=0)"
   ]
  },
  {
   "cell_type": "code",
   "execution_count": 74,
   "metadata": {},
   "outputs": [
    {
     "data": {
      "text/plain": [
       "(500, 500)"
      ]
     },
     "execution_count": 74,
     "metadata": {},
     "output_type": "execute_result"
    }
   ],
   "source": [
    "f.shape"
   ]
  },
  {
   "cell_type": "code",
   "execution_count": 75,
   "metadata": {},
   "outputs": [
    {
     "data": {
      "text/plain": [
       "(500, 500)"
      ]
     },
     "execution_count": 75,
     "metadata": {},
     "output_type": "execute_result"
    }
   ],
   "source": [
    "x.shape"
   ]
  },
  {
   "cell_type": "code",
   "execution_count": 81,
   "metadata": {},
   "outputs": [
    {
     "data": {
      "text/plain": [
       "(3, 3)"
      ]
     },
     "execution_count": 81,
     "metadata": {},
     "output_type": "execute_result"
    }
   ],
   "source": [
    "algo.diag_H_inv.shape"
   ]
  },
  {
   "cell_type": "code",
   "execution_count": 82,
   "metadata": {},
   "outputs": [
    {
     "data": {
      "text/plain": [
       "(500, 500)"
      ]
     },
     "execution_count": 82,
     "metadata": {},
     "output_type": "execute_result"
    }
   ],
   "source": [
    "np.fft.fft2(x).shape"
   ]
  },
  {
   "cell_type": "code",
   "execution_count": 85,
   "metadata": {},
   "outputs": [
    {
     "data": {
      "text/plain": [
       "array([[-2.46707383e+13-1.69624004e+13j, -2.61071397e+14-6.60479411e+13j,\n",
       "        -5.41492861e+13-4.81504212e+14j, ...,\n",
       "         4.07830477e+13+1.37488981e+14j,  1.53848766e+14-8.50787264e+14j,\n",
       "        -2.74774238e+13-2.92683600e+14j],\n",
       "       [ 3.53235491e+13+6.89712612e+13j,  1.28929130e+13+1.10939332e+14j,\n",
       "        -3.03940877e+14+1.34543662e+14j, ...,\n",
       "        -2.62733232e+14+1.95014415e+14j, -9.80465486e+13-2.66656675e+14j,\n",
       "        -1.70815057e+14+3.41988655e+13j],\n",
       "       [-8.33202896e+13+1.89486560e+13j, -1.86435621e+13-1.46993975e+14j,\n",
       "         8.03676204e+13+1.43055783e+14j, ...,\n",
       "        -1.85502679e+14-9.13636768e+13j,  3.93554802e+14-9.31872691e+13j,\n",
       "        -8.46297745e+11-3.71762051e+13j],\n",
       "       ...,\n",
       "       [ 1.61077066e+13+5.59705891e+13j,  3.87869821e+12+1.87072378e+13j,\n",
       "         5.81107370e+13-6.52833965e+13j, ...,\n",
       "         1.23419398e+14+4.64238362e+13j, -2.15072917e+14-1.10145474e+14j,\n",
       "        -2.44793900e+12+5.63847634e+13j],\n",
       "       [-1.38171046e+13-4.73890455e+13j,  2.70407631e+13+4.62771899e+13j,\n",
       "         6.76828141e+13+4.31665908e+12j, ...,\n",
       "         4.46219806e+13-3.51633699e+13j,  7.86639737e+13+6.75955392e+13j,\n",
       "        -3.26188084e+13+8.74774638e+13j],\n",
       "       [ 4.85355903e+13+8.42102594e+12j,  3.82032385e+13-4.52651052e+13j,\n",
       "        -5.36678323e+12+1.12475398e+14j, ...,\n",
       "         2.60709328e+13-1.17000233e+14j, -1.04577171e+14+2.00960620e+14j,\n",
       "         1.96063825e+13+5.60512879e+12j]])"
      ]
     },
     "execution_count": 85,
     "metadata": {},
     "output_type": "execute_result"
    }
   ],
   "source": [
    "np.linalg.inv(algo.A_fft)"
   ]
  },
  {
   "cell_type": "code",
   "execution_count": 89,
   "metadata": {},
   "outputs": [
    {
     "data": {
      "text/plain": [
       "array([[  0.    ,   0.    ,   0.    , ...,   0.    ,   0.    ,   0.    ],\n",
       "       [  0.    , 198.625 , 215.    , ..., 104.375 , 121.125 ,   0.    ],\n",
       "       [  0.    , 216.875 , 229.1875, ..., 118.75  , 141.4375,   0.    ],\n",
       "       ...,\n",
       "       [  0.    , 151.4375, 182.625 , ...,  68.0625,  63.875 ,   0.    ],\n",
       "       [  0.    , 150.5   , 181.0625, ...,  66.25  ,  62.75  ,   0.    ],\n",
       "       [  0.    ,   0.    ,   0.    , ...,   0.    ,   0.    ,   0.    ]])"
      ]
     },
     "execution_count": 89,
     "metadata": {},
     "output_type": "execute_result"
    }
   ],
   "source": [
    "f"
   ]
  },
  {
   "cell_type": "code",
   "execution_count": null,
   "metadata": {},
   "outputs": [],
   "source": []
  }
 ],
 "metadata": {
  "kernelspec": {
   "display_name": "centrale",
   "language": "python",
   "name": "python3"
  },
  "language_info": {
   "codemirror_mode": {
    "name": "ipython",
    "version": 3
   },
   "file_extension": ".py",
   "mimetype": "text/x-python",
   "name": "python",
   "nbconvert_exporter": "python",
   "pygments_lexer": "ipython3",
   "version": "3.8.16"
  },
  "orig_nbformat": 4,
  "vscode": {
   "interpreter": {
    "hash": "64fc916e18f1edd41fbd23c54dce4ab1f12999a76ff034f974e0766d85066b59"
   }
  }
 },
 "nbformat": 4,
 "nbformat_minor": 2
}
